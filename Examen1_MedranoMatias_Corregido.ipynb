{
 "cells": [
  {
   "cell_type": "markdown",
   "id": "ff5e9ed5",
   "metadata": {},
   "source": [
    "Matias Medrano Ascencio"
   ]
  },
  {
   "cell_type": "markdown",
   "id": "2185fbc3",
   "metadata": {},
   "source": [
    "Jueves 28 de septiembre del 2023"
   ]
  },
  {
   "cell_type": "markdown",
   "id": "1e2823cf",
   "metadata": {},
   "source": [
    "# Examen A Módulo 1 - Optimización.\n",
    "\n",
    "**Lea cuidadosamente las siguientes indicaciones antes de comenzar el examen:**\n",
    "- Para resolver el examen edite este mismo archivo y renómbrelo de la siguiente manera: *Examen1_ApellidoNombre*, donde *ApellidoNombre* corresponde a su apellido paterno con la inicial en mayúscula, seguido de su primer nombre con la inicial en mayúscula **sin acentos**. Por ejemplo, en mi caso el nombre del archivo sería *Examen1_MoralesGabriel*.\n",
    "- Resuelva los puntos en el espacio provisto. Si requiere agregar más celdas para código o escritura, hágalo (`Esc`,`B`) o (`Esc`,`A`).\n",
    "- Recuerde que también se está evaluando su capacidad de interpretar los resultados. Escriba sus interpretaciones/conclusiones en celdas utilizando *Markdown*.\n",
    "- El formato de presentación de todo el examen en general debe ser adecuado. Use tamaños de letra, colores, etiquetas, etcétera.\n",
    "- No se resuelven dudas de ningún tipo por los profesores de la asignatura. Por favor, absténgase de preguntar.\n",
    "- Revise bien el tipo de examen. Sólo se le calificará si realiza el tipo de examen asignado."
   ]
  },
  {
   "cell_type": "markdown",
   "id": "53712a36",
   "metadata": {},
   "source": [
    "---\n",
    "# Primer punto. Optimización de funciones con `SymPy` (37 puntos)\n",
    "\n",
    "**Costo mínimo**. Imagine dos contenedores cilíndricos sin tapa que deben satisfacer las siguientes condiciones:\n",
    "\n",
    "- El primer contenedor tiene el doble de altura que el segundo.\n",
    "- La altura del primer contenedor (el de mayor tamaño) es el doble de su radio.\n",
    "- El material para la base cuesta 10.00 MXN por cada $m^2$.\n",
    "- El material para los lados cuesta 6.00 MXN por cada $m^2$.\n",
    "\n",
    "¿Cuál es el costo del contenedor más barato?\n"
   ]
  },
  {
   "cell_type": "markdown",
   "id": "9913d3d8",
   "metadata": {},
   "source": [
    "1. Escriba el volumen $V_1(r_1)$ y $V_2(r_2, r_1)$ de ambos contenedores como dos funciones distintas, donde $r_1$ es el radio del primer contenedor y $r_2$ es el radio del segundo. Realice este punto usando $\\LaTeX$ y celdas *Markdown*."
   ]
  },
  {
   "cell_type": "markdown",
   "id": "e863d732",
   "metadata": {},
   "source": [
    "Definimos la altura del primer contendedor (el más alto) como 2h y la altura del segundo contenedor como h. Por ende, si la altura del segundo contenedor (2h) es el doble del radio ($2r_1$), concluimos que \n",
    "$$ h = r_1 $$"
   ]
  },
  {
   "cell_type": "markdown",
   "id": "a387e2cb",
   "metadata": {},
   "source": [
    "$$ V_1(r_1) = \\pi r_1^2 (2h) $$"
   ]
  },
  {
   "cell_type": "markdown",
   "id": "d2b317b1",
   "metadata": {},
   "source": [
    "$$ V_1(r_1) = 2\\pi r_1^2 r_1 = 2\\pi r_1^3 $$"
   ]
  },
  {
   "cell_type": "markdown",
   "id": "741758e5",
   "metadata": {},
   "source": [
    "$$ V_2(r_2, r_1) = \\pi r_2^2 (h) $$"
   ]
  },
  {
   "cell_type": "markdown",
   "id": "f087f48b",
   "metadata": {},
   "source": [
    "$$ V_2(r_2, r_1) = \\pi r_2^2 (r_1) $$"
   ]
  },
  {
   "cell_type": "markdown",
   "id": "ee04a16b",
   "metadata": {},
   "source": [
    "2. Escriba el costo **C** de fabricar ambos contenedores como una función de los radios de las bases. Realice este punto usando $\\LaTeX$ y celdas *Markdown*."
   ]
  },
  {
   "cell_type": "markdown",
   "id": "0bc2ba55",
   "metadata": {},
   "source": [
    "El costo se basa en los metros cuadrados de superficie de la base y lados de cada contenedor. Cada metro cuadrado de la base cuesta 10 pesos, por lo que multiplicamos este 10 por la fórmula del área de un círculo ($\\pi r^2 $). Para la superficie de los lados multiplicamos la altura de cada cilindro por la circunferencia de cada círculo ($2\\pi r $)."
   ]
  },
  {
   "cell_type": "markdown",
   "id": "051f7267",
   "metadata": {},
   "source": [
    "Tomamos en cuenta que $h = r_1$"
   ]
  },
  {
   "cell_type": "markdown",
   "id": "fed271d9",
   "metadata": {},
   "source": [
    "$$ C(r_1,r_2) = 10 \\pi r_1^2 + 10 \\pi r_2^2 + 6 (2h)\\pi (2) r_1 + (h)6 \\pi (2) r_2 $$"
   ]
  },
  {
   "cell_type": "markdown",
   "id": "066000c3",
   "metadata": {},
   "source": [
    "$$ C(r_1,r_2) = 10 \\pi r_1^2 + 10 \\pi r_2^2 + 6 (2r_1)\\pi (2) r_1 + (r_1)6 \\pi (2) r_2 $$"
   ]
  },
  {
   "cell_type": "markdown",
   "id": "e1d653a4",
   "metadata": {},
   "source": [
    "$$ C(r_1,r_2) = 10 \\pi r_1^2 + 10 \\pi r_2^2 + 24 \\pi r_1^2 + 12 \\pi r_2 r_1 $$"
   ]
  },
  {
   "cell_type": "markdown",
   "id": "a1e58696",
   "metadata": {},
   "source": [
    "3. Determina las dimensiones de los contenedores si el volumen del contenedor pequeño debe ser de $12m^3$ y el costo debe ser mínimo."
   ]
  },
  {
   "cell_type": "markdown",
   "id": "ef0e9303",
   "metadata": {},
   "source": [
    "$$ V_2(r_2, r_1) = \\pi r_2^2 (r_1) = 12 $$"
   ]
  },
  {
   "cell_type": "markdown",
   "id": "3ef0276e",
   "metadata": {},
   "source": [
    "Despejamos $r_1$ en términos de $r_2$ para poder sustituir en fórmula de costo."
   ]
  },
  {
   "cell_type": "markdown",
   "id": "93f6fa58",
   "metadata": {},
   "source": [
    "$$ r_1 = \\frac{12}{\\pi r_2^2} $$"
   ]
  },
  {
   "cell_type": "markdown",
   "id": "639b1768",
   "metadata": {},
   "source": [
    "$$ C(r_2) = 10 \\pi (\\frac{12}{\\pi r_2^2})^2 + 10 \\pi r_2^2 + 24 \\pi (\\frac{12}{\\pi r_2^2})^2 + 12 \\pi r_2 (\\frac{12}{\\pi r_2^2}) $$"
   ]
  },
  {
   "cell_type": "code",
   "execution_count": 2,
   "id": "fc2ea24f",
   "metadata": {},
   "outputs": [
    {
     "name": "stdout",
     "output_type": "stream",
     "text": [
      "-2.15160201947749\n",
      "2.15160201947749\n",
      "-1.07580100973874 - 1.86334200770141*I\n",
      "-1.07580100973874 + 1.86334200770141*I\n",
      "1.07580100973874 - 1.86334200770141*I\n",
      "1.07580100973874 + 1.86334200770141*I\n"
     ]
    }
   ],
   "source": [
    "import numpy as np\n",
    "import sympy as sp\n",
    "\n",
    "sp.var(\"r\")\n",
    "\n",
    "def f(r):\n",
    "    return 10*np.pi*(12/(np.pi*r**2))**2 + 10*np.pi*r**2 + 24*np.pi*(12/(np.pi*r**2))**2 + 12*np.pi*r**2*(12/(np.pi*r**2))\n",
    "\n",
    "dr = sp.diff(f(r), r)\n",
    "\n",
    "pc = sp.solve(dr,r)\n",
    "for c in pc:\n",
    "    print(c)"
   ]
  },
  {
   "cell_type": "markdown",
   "id": "7ad7412a",
   "metadata": {},
   "source": [
    "En este caso solamente existe un número real posible, por lo que ignoraremos el resto y tomaremos ese punto crítico."
   ]
  },
  {
   "cell_type": "code",
   "execution_count": 3,
   "id": "266550a2",
   "metadata": {},
   "outputs": [
    {
     "data": {
      "text/latex": [
       "$\\displaystyle 62.8318530717959 + \\frac{31168.9040551168}{r^{6}}$"
      ],
      "text/plain": [
       "62.8318530717959 + 31168.9040551168/r**6"
      ]
     },
     "execution_count": 3,
     "metadata": {},
     "output_type": "execute_result"
    }
   ],
   "source": [
    "ddr = sp.diff(dr, r)\n",
    "ddr"
   ]
  },
  {
   "cell_type": "code",
   "execution_count": 5,
   "id": "bc52c691",
   "metadata": {},
   "outputs": [
    {
     "name": "stdout",
     "output_type": "stream",
     "text": [
      "376.991118430775\n"
     ]
    }
   ],
   "source": [
    "crit_2da_derivada = ddr.subs(r, pc[1])\n",
    "print(crit_2da_derivada)"
   ]
  },
  {
   "cell_type": "code",
   "execution_count": 7,
   "id": "d7831b80",
   "metadata": {},
   "outputs": [
    {
     "data": {
      "text/plain": [
       "[<matplotlib.lines.Line2D at 0x20d907ac8d0>]"
      ]
     },
     "execution_count": 7,
     "metadata": {},
     "output_type": "execute_result"
    },
    {
     "data": {
      "image/png": "[encoded data removed]",
      "text/plain": [
       "<Figure size 640x480 with 1 Axes>"
      ]
     },
     "metadata": {},
     "output_type": "display_data"
    }
   ],
   "source": [
    "import matplotlib.pyplot as plt\n",
    "%matplotlib inline\n",
    "\n",
    "xn = np.linspace(1,10,1000)\n",
    "\n",
    "plt.figure()\n",
    "plt.plot(xn, f(xn))\n",
    "plt.plot(pc[1], f(pc[1]), \"*m\", ms=10)"
   ]
  },
  {
   "cell_type": "markdown",
   "id": "966677cb",
   "metadata": {},
   "source": [
    "Notamos que el único punto crítico real se encuentra en $ r_2 = 2.1516$. A partir de ello podemos despejar $r_1$ y $h$:"
   ]
  },
  {
   "cell_type": "markdown",
   "id": "03216c63",
   "metadata": {},
   "source": [
    "$$ r_1 = h = \\frac{12}{\\pi (2.1516)^2} = 0.8251 $$"
   ]
  },
  {
   "cell_type": "markdown",
   "id": "134d7476",
   "metadata": {},
   "source": [
    "$h$ es la altura del segundo contenedor, mientras que $2h$ es la altura del primer contenedor, o sea $1.6502$."
   ]
  },
  {
   "cell_type": "markdown",
   "id": "fec1be1e",
   "metadata": {},
   "source": [
    "3. ¿Cuál fue el costo de fabricar este par de contenedores?"
   ]
  },
  {
   "cell_type": "markdown",
   "id": "de9c3323",
   "metadata": {},
   "source": [
    "$$ C(2.1516) = 10 \\pi (\\frac{12}{(2.1516)^2 \\pi})^2 + 10 (2.1516)^2 \\pi + 24 \\pi (\\frac{12}{(2.1516)^2 \\pi})^2 + 12 (2.1516) \\pi (\\frac{12}{(2.1516)^2 \\pi}) $$"
   ]
  },
  {
   "cell_type": "code",
   "execution_count": 8,
   "id": "8cd979f9",
   "metadata": {},
   "outputs": [
    {
     "data": {
      "text/plain": [
       "362.15492313501045"
      ]
     },
     "execution_count": 8,
     "metadata": {},
     "output_type": "execute_result"
    }
   ],
   "source": [
    "f(2.1516)"
   ]
  },
  {
   "cell_type": "markdown",
   "id": "38b7b0cd",
   "metadata": {},
   "source": [
    "El costo mínimo de fabricar ambos contenedores es de 362.1549 MXN."
   ]
  },
  {
   "cell_type": "markdown",
   "id": "ef917fac",
   "metadata": {},
   "source": [
    "### Correcciones del ejercicio 1"
   ]
  },
  {
   "cell_type": "markdown",
   "id": "7dc33e75",
   "metadata": {},
   "source": [
    "El error fue que originalmente trate de despejar $r_1$ pero al momento de obtener los puntos críticos obtuve números imaginarios en la respuesta (cosa que igualmente ocurre ahora, pero decidí ignorar), por lo que en la entrega original del examen trate de despejar $r_2$, lo cual fue más tardado y complicado de explicar en código, dándome error.\n",
    "\n",
    "Para corregirlo regresé a mi plan original de despejar $r_1$ y sustuirlo en la ecuación de costos. Ignoré los resultados imaginarios y solamente tomé en cuenta el dato real (2.1516). Esto logró funcionar ya que la gráfica y costo fueron resueltos con lógica, y logré completar el ejercicio.\n",
    "\n",
    "Esto se puede evitar al analizar todas las respuestas de puntos críticos obtenidos y filtrándolos para saber si algun resultado es válido y otros se pueden ignorar. Es decir, no detenerse por resultados variados como estos, sino tomar aquellos que nos sirven y continuar."
   ]
  },
  {
   "cell_type": "markdown",
   "id": "4eeff9c8",
   "metadata": {},
   "source": [
    "---\n",
    "# Segundo punto. Programación lineal (37 puntos)"
   ]
  },
  {
   "cell_type": "markdown",
   "id": "8013ca31",
   "metadata": {},
   "source": [
    "Una empresa se dedica a fabricar tarjetas de control para automóviles, y están en su momento de planeación de compras anuales. Hay 3 proveedores que pueden proveer los componentes, cada uno a su propio precio."
   ]
  },
  {
   "cell_type": "markdown",
   "id": "f41253d2",
   "metadata": {},
   "source": [
    "<table>\n",
    "  <tr>\n",
    "      <th>  </th>\n",
    "      <th>Proveedor 1</th>\n",
    "      <th>Proveedor 2</th>\n",
    "      <th>Proveedor 3</th>\n",
    "      <th>Demanda</th>\n",
    "  </tr>\n",
    "  <tr>\n",
    "      <th>Componente 1</th>\n",
    "      <td>0.5</td>\n",
    "      <td>0.6</td>\n",
    "      <td>0.7</td>\n",
    "      <td>15000</td>\n",
    "  </tr>\n",
    "  <tr style=\"border-bottom: 1px solid #000;\">\n",
    "      <th>Componente 2</th>\n",
    "      <td>0.7</td>\n",
    "      <td>0.5</td>\n",
    "      <td>0.6</td>\n",
    "      <td>20000</td>\n",
    "  </tr>\n",
    "  <tr style=\"border-bottom: 1px solid #000;\">\n",
    "      <th>Componente 3</th>\n",
    "      <td>0.32</td>\n",
    "      <td>0.54</td>\n",
    "      <td>0.8</td>\n",
    "      <td>12000</td>\n",
    "  </tr>\n",
    "\n",
    "  <tr style=\"border-bottom: 1px solid #000;\">\n",
    "      <th>Capacidad</th>\n",
    "      <td> 21000 </td>\n",
    "      <td> 16000 </td>\n",
    "      <td> 16000 </td>\n",
    "      <td>  </td>\n",
    "  </tr>\n",
    "</table>"
   ]
  },
  {
   "cell_type": "markdown",
   "id": "48d6c967",
   "metadata": {},
   "source": [
    "El proveedor tiene restricciones de capacidad de fabricación del tipo de componentes, por lo que un proveedor no puede satisfacer nuestra demanda completa para cada componente."
   ]
  },
  {
   "cell_type": "markdown",
   "id": "85e307ae",
   "metadata": {},
   "source": [
    "Se desea conocer la cantidad que se debe comprar de cada componente a cada proveedor para gastar la menor cantidad de dinero posible, pero al mismo tiempo lograr satisfacer la demanda para poder continuar con la manufactura del producto."
   ]
  },
  {
   "cell_type": "markdown",
   "id": "df55a736",
   "metadata": {},
   "source": [
    "1. Escriba la función a **minimizar** junto con las restricciones, explicando detalladamente cada paso (usando fórmulas en $\\LaTeX$, en celdas Markdown). Además escriba el problema en la forma \\begin{equation}\n",
    "\\begin{array}{ll}\n",
    "\\min_{\\boldsymbol{x}} & \\boldsymbol{c}^T\\boldsymbol{x} \\\\\n",
    "\\text{s. a. }        & \\boldsymbol{A}_{eq}\\boldsymbol{x}=\\boldsymbol{b}_{eq} \\\\\n",
    "                     & \\boldsymbol{A}\\boldsymbol{x}\\leq\\boldsymbol{b},\n",
    "\\end{array}\\qquad\\text{(23 puntos)}\n",
    "\\end{equation}"
   ]
  },
  {
   "cell_type": "markdown",
   "id": "04ce36d6",
   "metadata": {},
   "source": [
    "$$ min_x 0.5x_{11} + 0.6x_{12} + 0.7x_{13} + 0.7x_{21} + 0.5x_{22} + 0.6x_{23} + 0.32x_{x31} + 0.54x_{32} + 0.8x_{33}$$"
   ]
  },
  {
   "cell_type": "markdown",
   "id": "5b7a3364",
   "metadata": {},
   "source": [
    "Variables sobre las que se tiene control:"
   ]
  },
  {
   "cell_type": "markdown",
   "id": "d4c96539",
   "metadata": {},
   "source": [
    "- $ x_{11} $ es la cantidad de componentes 1 del proveedor 1 "
   ]
  },
  {
   "cell_type": "markdown",
   "id": "cd5c4670",
   "metadata": {},
   "source": [
    "- $ x_{12} $ es la cantidad de componentes 1 del proveedor 2 "
   ]
  },
  {
   "cell_type": "markdown",
   "id": "f67f6089",
   "metadata": {},
   "source": [
    "- $ x_{13} $ es la cantidad de componentes 1 del proveedor 3 "
   ]
  },
  {
   "cell_type": "markdown",
   "id": "19f41160",
   "metadata": {},
   "source": [
    "- $ x_{21} $ es la cantidad de componentes 2 del proveedor 1 "
   ]
  },
  {
   "cell_type": "markdown",
   "id": "a10e7683",
   "metadata": {},
   "source": [
    "- $ x_{22} $ es la cantidad de componentes 2 del proveedor 2 "
   ]
  },
  {
   "cell_type": "markdown",
   "id": "e926147c",
   "metadata": {},
   "source": [
    "- $ x_{23} $ es la cantidad de componentes 2 del proveedor 3 "
   ]
  },
  {
   "cell_type": "markdown",
   "id": "1f711683",
   "metadata": {},
   "source": [
    "- $ x_{31} $ es la cantidad de componentes 3 del proveedor 1 \n"
   ]
  },
  {
   "cell_type": "markdown",
   "id": "3376a7f8",
   "metadata": {},
   "source": [
    "- $ x_{32} $ es la cantidad de componentes 3 del proveedor 2 "
   ]
  },
  {
   "cell_type": "markdown",
   "id": "9a5cbb11",
   "metadata": {},
   "source": [
    "- $ x_{33} $ es la cantidad de componentes 3 del proveedor 3"
   ]
  },
  {
   "cell_type": "markdown",
   "id": "9b40ef2b",
   "metadata": {},
   "source": [
    "**Restricciones:**"
   ]
  },
  {
   "cell_type": "markdown",
   "id": "6ec6f5df",
   "metadata": {},
   "source": [
    "Resticciones de demanda:"
   ]
  },
  {
   "cell_type": "markdown",
   "id": "869e0866",
   "metadata": {},
   "source": [
    "$ x_{11} + x_{12} + x_{13} = 15000 $\n",
    "\n",
    "$ x_{21} + x_{22} + x_{23} = 20000 $\n",
    "\n",
    "$ x_{31} + x_{32} + x_{33} = 12000 $"
   ]
  },
  {
   "cell_type": "markdown",
   "id": "bd7b9623",
   "metadata": {},
   "source": [
    "Restricciones de capacidad:"
   ]
  },
  {
   "cell_type": "markdown",
   "id": "7b345215",
   "metadata": {},
   "source": [
    "$ x_{11} + x_{21} + x_{31} \\leq 21000 $\n",
    "\n",
    "$ x_{12} + x_{22} + x_{32} \\leq 16000 $\n",
    "\n",
    "$ x_{13} + x_{23} + x_{33} \\leq 16000 $"
   ]
  },
  {
   "cell_type": "markdown",
   "id": "6c1e3c9a",
   "metadata": {},
   "source": [
    "2. Resuelva el problema utilizando la función `linprog`. ¿Cómo debe ser la distribución de compras? ¿Cuánto dinero se necesita para satisfacer la demanda? (10 puntos)"
   ]
  },
  {
   "cell_type": "code",
   "execution_count": 4,
   "id": "d321188e",
   "metadata": {},
   "outputs": [
    {
     "data": {
      "text/plain": [
       "        message: Optimization terminated successfully. (HiGHS Status 7: Optimal)\n",
       "        success: True\n",
       "         status: 0\n",
       "            fun: 22940.0\n",
       "              x: [ 9.000e+03  0.000e+00  6.000e+03  0.000e+00  1.600e+04\n",
       "                   4.000e+03  1.200e+04  0.000e+00  0.000e+00]\n",
       "            nit: 6\n",
       "          lower:  residual: [ 9.000e+03  0.000e+00  6.000e+03  0.000e+00\n",
       "                              1.600e+04  4.000e+03  1.200e+04  0.000e+00\n",
       "                              0.000e+00]\n",
       "                 marginals: [ 0.000e+00  0.000e+00  0.000e+00  3.000e-01\n",
       "                              0.000e+00  0.000e+00  0.000e+00  1.200e-01\n",
       "                              2.800e-01]\n",
       "          upper:  residual: [       inf        inf        inf        inf\n",
       "                                    inf        inf        inf        inf\n",
       "                                    inf]\n",
       "                 marginals: [ 0.000e+00  0.000e+00  0.000e+00  0.000e+00\n",
       "                              0.000e+00  0.000e+00  0.000e+00  0.000e+00\n",
       "                              0.000e+00]\n",
       "          eqlin:  residual: [ 0.000e+00  0.000e+00  0.000e+00]\n",
       "                 marginals: [ 7.000e-01  6.000e-01  5.200e-01]\n",
       "        ineqlin:  residual: [ 0.000e+00  0.000e+00  6.000e+03]\n",
       "                 marginals: [-2.000e-01 -1.000e-01 -0.000e+00]\n",
       " mip_node_count: 0\n",
       " mip_dual_bound: 0.0\n",
       "        mip_gap: 0.0"
      ]
     },
     "execution_count": 4,
     "metadata": {},
     "output_type": "execute_result"
    }
   ],
   "source": [
    "import pandas as pd\n",
    "import scipy.optimize as opt\n",
    "\n",
    "c = np.array([0.5,\n",
    "             0.6,\n",
    "             0.7,\n",
    "             0.7,\n",
    "             0.5,\n",
    "              0.6,\n",
    "             0.32,\n",
    "              0.54,\n",
    "              0.8,\n",
    "            ])\n",
    "\n",
    "Aub = np.array([\n",
    "    [1, 0, 0, 1, 0, 0, 1, 0, 0],\n",
    "    [0, 1, 0, 0, 1, 0, 0, 1, 0],\n",
    "    [0, 0, 1, 0, 0, 1, 0, 0, 1]\n",
    "])\n",
    "\n",
    "bub = np.array([21000,\n",
    "                16000,\n",
    "                16000])\n",
    "\n",
    "Aeq = np.array([\n",
    "    [1, 1, 1, 0, 0, 0, 0, 0, 0],\n",
    "    [0, 0, 0, 1, 1, 1, 0, 0, 0],\n",
    "    [0, 0, 0, 0, 0, 0, 1, 1, 1],\n",
    "])\n",
    "\n",
    "beq = np.array([15000,\n",
    "                20000,\n",
    "                12000])\n",
    "\n",
    "opt.linprog(c, Aub, bub, Aeq, beq)"
   ]
  },
  {
   "cell_type": "markdown",
   "id": "86b42de2",
   "metadata": {},
   "source": [
    "La cantidad de componentes queda de la siguiente manera:\n",
    "- 9,000 componentes 1 del proveedor 1\n",
    "- 0 componentes 1 del proveedor 2\n",
    "- 6,000 componentes 1 del proveedor 3\n",
    "- 0 componentes 2 del proveedor 1\n",
    "- 16,000 componentes 2 del proveedor 2\n",
    "- 4,000 componentes 2 del proveedor 3\n",
    "- 12,000 componentes 3 del proveedor 1\n",
    "- 0 componentes 3 del proveedor 2\n",
    "- 0 componentes 3 del proveedor 3"
   ]
  },
  {
   "cell_type": "markdown",
   "id": "17ec3003",
   "metadata": {},
   "source": [
    "Nuestra función de costos quedaría de la siguiente manera:"
   ]
  },
  {
   "cell_type": "markdown",
   "id": "021edded",
   "metadata": {},
   "source": [
    "$$ 0.5(9000) + 0.7(6000) + 0.5(16000) + 0.6(4000) + 0.32(12000) = 22940 u.m. $$"
   ]
  },
  {
   "cell_type": "markdown",
   "id": "cb329448",
   "metadata": {},
   "source": [
    "### Correcciones del ejercicio 2"
   ]
  },
  {
   "cell_type": "markdown",
   "id": "7596e6ee",
   "metadata": {},
   "source": [
    "El error en este problema fue uno sencillo y de escritura, ya que en el examen original utilicé un vector de costos con  únicamente coeficientes 1, es decir, no tome en cuenta los verdaderos coeficientes de costo por componente por empresa, y asumí erróneamente al no checar el vector C que todos los componentes cuestan 1 MXN. \n",
    "\n",
    "Corregí dicho vector de costos, sustituyendo los 1s con los coeficientes verdaderos. Esto nos genera los datos reales buscados por el problema.\n",
    "\n",
    "Este problema se puede evitar al tener mayor cuidado y atención a lo que copiamos y editamos dentro de un documento. Este error ocurrió ya que copié un ejercicio similar que ya tenía para ahorrarme la transcripción tardada de las matrices, y olvidé cambiar los datos del vector de costos."
   ]
  },
  {
   "cell_type": "markdown",
   "id": "5663a48b",
   "metadata": {},
   "source": [
    "# Tercer punto. Ajuste de curvas (36 puntos)\n",
    "\n",
    "Utiliza el archivo adjunto en Canvas en el apartado que corresponde al examen."
   ]
  },
  {
   "cell_type": "markdown",
   "id": "c673e9e6",
   "metadata": {},
   "source": [
    "Escribe tu número de expediente: 745136"
   ]
  },
  {
   "cell_type": "markdown",
   "id": "da3c6c2e",
   "metadata": {},
   "source": [
    "Lee el archivo y extrae la siguiente información:\n",
    "- $x$ es la primer columna del archivo\n",
    "- $y$ es la columna correspondiente a los últimos dos dígitos de tu número de expediente + 1. E.g. mi expediente es $693871$; por lo tanto, debo usar la columna $72$."
   ]
  },
  {
   "cell_type": "code",
   "execution_count": 2,
   "id": "46fbbaf5",
   "metadata": {},
   "outputs": [],
   "source": [
    "import pandas as pd\n",
    "data = pd.read_excel(\"E01-RegresionLineal.xlsx\")"
   ]
  },
  {
   "cell_type": "code",
   "execution_count": 3,
   "id": "feb405d3",
   "metadata": {},
   "outputs": [],
   "source": [
    "x = np.array(data[0])\n",
    "y = np.array(data[37])"
   ]
  },
  {
   "cell_type": "markdown",
   "id": "8714fbd7",
   "metadata": {},
   "source": [
    "1. Ajuste los datos con polinomios de grados 1, 3, y 5. Muestre los errores de forma gráfica. ¿Qué polinomio se ajusta mejor?"
   ]
  },
  {
   "cell_type": "code",
   "execution_count": 4,
   "id": "027ba631",
   "metadata": {},
   "outputs": [],
   "source": [
    "m = len(y)\n",
    "\n",
    "# y = b0 + b1*x \n",
    "beta = np.random.rand(2)\n",
    "ones = np.ones([m, 1])\n",
    "x_factor = np.reshape(x, [m, 1])\n",
    "X = np.hstack( (ones, x_factor) )\n",
    "y_vector = np.reshape(y, [m, 1])\n",
    "\n",
    "x2_factor = np.reshape(x**2, [m, 1])\n",
    "\n",
    "# y = b0 + b1*x + b2*x**2 + b3*x**3\n",
    "beta3 = np.random.rand(4)\n",
    "x3_factor = np.reshape(x**3, [m, 1])\n",
    "X3 = np.hstack( (ones, x_factor, x2_factor, x3_factor) )\n",
    "\n",
    "x4_factor = np.reshape(x**4, [m, 1])\n",
    "\n",
    "# y = b0 + b1*x + b2*x**2 + b3*x**3 + b4*x**4 + b5*x**5\n",
    "beta5 = np.random.rand(6)\n",
    "x5_factor = np.reshape(x**5, [m, 1])\n",
    "X5 = np.hstack( (ones, x_factor, x2_factor, x3_factor, x4_factor, x5_factor) )\n",
    "\n",
    "def funcion_de_costo(beta, X, y) :\n",
    "    m, n = X.shape\n",
    "    beta = np.reshape(beta, [n, 1])\n",
    "    y_pred = X @ beta\n",
    "    error = y_pred - y\n",
    "    return (error.T @ error)[0][0]"
   ]
  },
  {
   "cell_type": "code",
   "execution_count": 5,
   "id": "867c7c09",
   "metadata": {},
   "outputs": [],
   "source": [
    "import scipy.optimize as opt\n",
    "import numpy as np\n",
    "\n",
    "sol1 = opt.minimize(funcion_de_costo, beta, args=(X, y_vector))\n",
    "sol3 = opt.minimize(funcion_de_costo, beta3, args=(X3, y_vector))\n",
    "sol5 = opt.minimize(funcion_de_costo, beta5, args=(X5, y_vector))"
   ]
  },
  {
   "cell_type": "code",
   "execution_count": 6,
   "id": "02c63d5b",
   "metadata": {},
   "outputs": [
    {
     "data": {
      "text/plain": [
       "array([-3.60300857,  7.37777303])"
      ]
     },
     "execution_count": 6,
     "metadata": {},
     "output_type": "execute_result"
    }
   ],
   "source": [
    "sol1.x"
   ]
  },
  {
   "cell_type": "code",
   "execution_count": 7,
   "id": "c55a36ae",
   "metadata": {},
   "outputs": [
    {
     "data": {
      "text/plain": [
       "array([-2.14969037,  5.49584685, -2.78014683,  2.06659419])"
      ]
     },
     "execution_count": 7,
     "metadata": {},
     "output_type": "execute_result"
    }
   ],
   "source": [
    "sol3.x"
   ]
  },
  {
   "cell_type": "code",
   "execution_count": 8,
   "id": "9b55695b",
   "metadata": {},
   "outputs": [
    {
     "data": {
      "text/plain": [
       "array([-1.7923205 ,  1.78536679,  6.02982404, -5.49033265,  2.4159962 ,\n",
       "       -0.18959752])"
      ]
     },
     "execution_count": 8,
     "metadata": {},
     "output_type": "execute_result"
    }
   ],
   "source": [
    "sol5.x"
   ]
  },
  {
   "cell_type": "code",
   "execution_count": 9,
   "id": "27387213",
   "metadata": {},
   "outputs": [],
   "source": [
    "def f1(x):\n",
    "    return -3.60300857 + 7.37777304*x\n",
    "def f2(x):\n",
    "    return -2.14968984 + 5.49584408*x - 2.78014362*x**2 + 2.06659317*x**3\n",
    "def f3(x):\n",
    "    return  -1.79232419 +  1.78542469*x + 6.02961997*x**2 - 5.49006086*x**3 + 2.41584382*x**4 - 0.18956716*x**5"
   ]
  },
  {
   "cell_type": "code",
   "execution_count": 11,
   "id": "f4097aa4",
   "metadata": {},
   "outputs": [
    {
     "data": {
      "text/plain": [
       "<matplotlib.legend.Legend at 0x27b357fd490>"
      ]
     },
     "execution_count": 11,
     "metadata": {},
     "output_type": "execute_result"
    },
    {
     "data": {
      "image/png": "[encoded data removed]",
      "text/plain": [
       "<Figure size 640x480 with 1 Axes>"
      ]
     },
     "metadata": {},
     "output_type": "display_data"
    }
   ],
   "source": [
    "import matplotlib.pyplot as plt\n",
    "%matplotlib inline\n",
    "\n",
    "plt.figure()\n",
    "plt.scatter(x, y)\n",
    "plt.grid()\n",
    "plt.plot(x, f1(x), \"r\", label = \"Lineal\")\n",
    "plt.plot(x, f2(x), \"m\", label = \"Cúbica\")\n",
    "plt.plot(x, f3(x), \"g\",label = \"Grado 5\")\n",
    "plt.legend(framealpha=1, frameon=True)"
   ]
  },
  {
   "cell_type": "code",
   "execution_count": 12,
   "id": "a8cfef44",
   "metadata": {},
   "outputs": [
    {
     "data": {
      "text/plain": [
       "<matplotlib.collections.PathCollection at 0x27b3587ac50>"
      ]
     },
     "execution_count": 12,
     "metadata": {},
     "output_type": "execute_result"
    },
    {
     "data": {
      "image/png": "[encoded data removed]",
      "text/plain": [
       "<Figure size 640x480 with 1 Axes>"
      ]
     },
     "metadata": {},
     "output_type": "display_data"
    }
   ],
   "source": [
    "import matplotlib.pyplot as plt\n",
    "%matplotlib inline\n",
    "plt.scatter([1, 2, 3], [sol1.fun, sol3.fun, sol5.fun])"
   ]
  },
  {
   "cell_type": "markdown",
   "id": "412c49f2",
   "metadata": {},
   "source": [
    "Al graficar los errores acumulados, notamos que el polinimio de grado 5 se ajusta ligeramente mejor a los datos que el polinomio de grado 3."
   ]
  },
  {
   "cell_type": "markdown",
   "id": "59862478",
   "metadata": {},
   "source": [
    "2. Muestre en un gráfico los datos y el polinomio que mejor se ajuste."
   ]
  },
  {
   "cell_type": "code",
   "execution_count": 13,
   "id": "c578f82b",
   "metadata": {},
   "outputs": [
    {
     "data": {
      "text/plain": [
       "<matplotlib.legend.Legend at 0x27b359c3a90>"
      ]
     },
     "execution_count": 13,
     "metadata": {},
     "output_type": "execute_result"
    },
    {
     "data": {
      "image/png": "[encoded data removed]",
      "text/plain": [
       "<Figure size 640x480 with 1 Axes>"
      ]
     },
     "metadata": {},
     "output_type": "display_data"
    }
   ],
   "source": [
    "plt.figure()\n",
    "plt.scatter(x, y)\n",
    "plt.grid()\n",
    "plt.plot(x, f3(x), \"g\",label = \"Grado 5\")\n",
    "plt.legend(framealpha=1, frameon=True)"
   ]
  },
  {
   "cell_type": "markdown",
   "id": "238f342a",
   "metadata": {},
   "source": [
    "3. Use el modelo para averiguar el valor de $y$ cuando:\n",
    "- $x=0.001$\n",
    "- $x=-0.1$\n",
    "- $x=2.1$"
   ]
  },
  {
   "cell_type": "code",
   "execution_count": 14,
   "id": "82706e4e",
   "metadata": {},
   "outputs": [
    {
     "data": {
      "text/plain": [
       "-1.7905327411776752"
      ]
     },
     "execution_count": 14,
     "metadata": {},
     "output_type": "execute_result"
    }
   ],
   "source": [
    "f3(0.001)"
   ]
  },
  {
   "cell_type": "code",
   "execution_count": 15,
   "id": "b5d4cfe7",
   "metadata": {},
   "outputs": [
    {
     "data": {
      "text/plain": [
       "-1.9048369183864"
      ]
     },
     "execution_count": 15,
     "metadata": {},
     "output_type": "execute_result"
    }
   ],
   "source": [
    "f3(-0.1)"
   ]
  },
  {
   "cell_type": "code",
   "execution_count": 16,
   "id": "51beb7c1",
   "metadata": {},
   "outputs": [
    {
     "data": {
      "text/plain": [
       "16.945696020750404"
      ]
     },
     "execution_count": 16,
     "metadata": {},
     "output_type": "execute_result"
    }
   ],
   "source": [
    "f3(2.1)"
   ]
  },
  {
   "cell_type": "markdown",
   "id": "4af77457",
   "metadata": {},
   "source": [
    "4. ¿Qué diferencias encuentra en cuanto a la interpolación y la extrapolación?"
   ]
  },
  {
   "cell_type": "markdown",
   "id": "2e5066df",
   "metadata": {},
   "source": [
    "Los valores de la interpolación se encuentran sobre la función dentro del rango establecido, por lo que podemos notar que se encuentran dentro de la nube de puntos formada por los datos.\n",
    "La extrapolación utiliza la función para estimar valores fuera del rango que sigan la tendencia establecida, por lo que son eso, estimaciones, que pueden contener mayores errores que las interpolaciones."
   ]
  },
  {
   "cell_type": "markdown",
   "id": "3ff8002f",
   "metadata": {},
   "source": [
    "5. Agregue un factor $\\cos{(10x)}$ a su modelo y grafique los resultados. ¿Mejoró el resultado?"
   ]
  },
  {
   "cell_type": "code",
   "execution_count": 20,
   "id": "28b1f9ef",
   "metadata": {},
   "outputs": [],
   "source": [
    "m = len(y)\n",
    "\n",
    "# y = b0 + b1*x \n",
    "beta = np.random.rand(2)\n",
    "ones = np.ones([m, 1])\n",
    "x_factor = np.reshape(x, [m, 1])\n",
    "X = np.hstack( (ones, x_factor) )\n",
    "y_vector = np.reshape(y, [m, 1])\n",
    "\n",
    "x2_factor = np.reshape(x**2, [m, 1])\n",
    "\n",
    "# y = b0 + b1*x + b2*x**2 + b3*x**3\n",
    "beta3 = np.random.rand(4)\n",
    "x3_factor = np.reshape(x**3, [m, 1])\n",
    "X3 = np.hstack( (ones, x_factor, x2_factor, x3_factor) )\n",
    "\n",
    "x4_factor = np.reshape(x**4, [m, 1])\n",
    "\n",
    "# y = b0 + b1*x + b2*x**2 + b3*x**3 + b4*x**4 + b5*x**5\n",
    "beta5 = np.random.rand(6)\n",
    "x5_factor = np.reshape(x**5, [m, 1])\n",
    "X5 = np.hstack( (ones, x_factor, x2_factor, x3_factor, x4_factor, x5_factor) )\n",
    "\n",
    "# y = b0 + b1*x + b2*x**2 + b3*x**3 + b4*x**4 + b5*x**5 + b6*cos(10*x)\n",
    "beta6 = np.random.rand(7)\n",
    "cos_factor = np.reshape(np.cos(10*x,), [m, 1])\n",
    "X6 = np.hstack( (ones, x_factor, x2_factor, x3_factor, x4_factor, x5_factor, cos_factor) )\n",
    "\n",
    "def funcion_de_costo(beta, X, y) :\n",
    "    m, n = X.shape\n",
    "    beta = np.reshape(beta, [n, 1])\n",
    "    y_pred = X @ beta\n",
    "    error = y_pred - y\n",
    "    return (error.T @ error)[0][0]"
   ]
  },
  {
   "cell_type": "code",
   "execution_count": 22,
   "id": "011525b0",
   "metadata": {},
   "outputs": [],
   "source": [
    "sol6 = opt.minimize(funcion_de_costo, beta6, args=(X6, y_vector))"
   ]
  },
  {
   "cell_type": "code",
   "execution_count": 23,
   "id": "b6cc448d",
   "metadata": {},
   "outputs": [
    {
     "data": {
      "text/plain": [
       "array([-1.71566342,  0.97540974,  8.21330676, -7.80890254,  3.46119411,\n",
       "       -0.35509803, -0.06273272])"
      ]
     },
     "execution_count": 23,
     "metadata": {},
     "output_type": "execute_result"
    }
   ],
   "source": [
    "sol6.x"
   ]
  },
  {
   "cell_type": "code",
   "execution_count": 24,
   "id": "9febff9c",
   "metadata": {},
   "outputs": [],
   "source": [
    "def f6(x):\n",
    "    return  -1.71567108 +  0.97550455*x + 8.21301538*x**2 -7.80854829*x**3 + 3.46100836*x**4 -0.35506291*x**5 -0.06273197*np.cos(10*x)"
   ]
  },
  {
   "cell_type": "code",
   "execution_count": 25,
   "id": "92952817",
   "metadata": {},
   "outputs": [
    {
     "data": {
      "text/plain": [
       "<matplotlib.legend.Legend at 0x27b36d95890>"
      ]
     },
     "execution_count": 25,
     "metadata": {},
     "output_type": "execute_result"
    },
    {
     "data": {
      "image/png": "[encoded data removed]",
      "text/plain": [
       "<Figure size 640x480 with 1 Axes>"
      ]
     },
     "metadata": {},
     "output_type": "display_data"
    }
   ],
   "source": [
    "plt.figure()\n",
    "plt.scatter(x, y)\n",
    "plt.grid()\n",
    "plt.plot(x, f6(x), \"g\",label = \"Cos\")\n",
    "plt.legend(framealpha=1, frameon=True)"
   ]
  }
 ],
 "metadata": {
  "kernelspec": {
   "display_name": "Python 3 (ipykernel)",
   "language": "python",
   "name": "python3"
  },
  "language_info": {
   "codemirror_mode": {
    "name": "ipython",
    "version": 3
   },
   "file_extension": ".py",
   "mimetype": "text/x-python",
   "name": "python",
   "nbconvert_exporter": "python",
   "pygments_lexer": "ipython3",
   "version": "3.11.4"
  }
 },
 "nbformat": 4,
 "nbformat_minor": 5
}
